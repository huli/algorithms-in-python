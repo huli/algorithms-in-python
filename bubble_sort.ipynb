{
 "cells": [
  {
   "cell_type": "markdown",
   "metadata": {},
   "source": [
    "### Bubble Sort\n",
    "*The smaller items slowly 'bubble' up to the beginning of the list*\n",
    "\n",
    "Runtime: O(n^2) average and worst case. Memory: O(1)."
   ]
  },
  {
   "cell_type": "code",
   "execution_count": 50,
   "metadata": {},
   "outputs": [],
   "source": [
    "def bubble_sort(collection, show_progress=False):\n",
    "    length = len(collection)\n",
    "    for i in range(length):\n",
    "        for j in range(length-1):\n",
    "                    if show_progress: print('%d > %d' % (collection[j], collection[j+1]))\n",
    "                    if collection[j] > collection[j+1]:\n",
    "                        collection[j], collection[j+1] = collection[j+1], collection[j]\n",
    "                        if show_progress: print(collection)\n",
    "    return collection"
   ]
  },
  {
   "cell_type": "markdown",
   "metadata": {},
   "source": [
    "Examples:"
   ]
  },
  {
   "cell_type": "code",
   "execution_count": 51,
   "metadata": {},
   "outputs": [
    {
     "data": {
      "text/plain": [
       "[]"
      ]
     },
     "execution_count": 51,
     "metadata": {},
     "output_type": "execute_result"
    }
   ],
   "source": [
    "bubble_sort([])"
   ]
  },
  {
   "cell_type": "code",
   "execution_count": 52,
   "metadata": {},
   "outputs": [
    {
     "data": {
      "text/plain": [
       "[1, 4, 5, 5, 7, 7, 9, 23, 34]"
      ]
     },
     "execution_count": 52,
     "metadata": {},
     "output_type": "execute_result"
    }
   ],
   "source": [
    "bubble_sort([4, 5, 23, 7, 9, 1, 5, 7, 34])"
   ]
  },
  {
   "cell_type": "code",
   "execution_count": 56,
   "metadata": {},
   "outputs": [
    {
     "data": {
      "text/plain": [
       "[-12, -4, 5, 10]"
      ]
     },
     "execution_count": 56,
     "metadata": {},
     "output_type": "execute_result"
    }
   ],
   "source": [
    "bubble_sort([10, -12, -4, 5])"
   ]
  },
  {
   "cell_type": "code",
   "execution_count": 54,
   "metadata": {},
   "outputs": [
    {
     "name": "stdout",
     "output_type": "stream",
     "text": [
      "5 > 12\n",
      "12 > 9\n",
      "[5, 9, 12, 3]\n",
      "12 > 3\n",
      "[5, 9, 3, 12]\n",
      "5 > 9\n",
      "9 > 3\n",
      "[5, 3, 9, 12]\n",
      "9 > 12\n",
      "5 > 3\n",
      "[3, 5, 9, 12]\n",
      "5 > 9\n",
      "9 > 12\n",
      "3 > 5\n",
      "5 > 9\n",
      "9 > 12\n"
     ]
    },
    {
     "data": {
      "text/plain": [
       "[3, 5, 9, 12]"
      ]
     },
     "execution_count": 54,
     "metadata": {},
     "output_type": "execute_result"
    }
   ],
   "source": [
    "bubble_sort([5, 12, 9, 3], True)"
   ]
  },
  {
   "cell_type": "code",
   "execution_count": null,
   "metadata": {
    "collapsed": true
   },
   "outputs": [],
   "source": []
  }
 ],
 "metadata": {
  "kernelspec": {
   "display_name": "Python 3",
   "language": "python",
   "name": "python3"
  },
  "language_info": {
   "codemirror_mode": {
    "name": "ipython",
    "version": 3
   },
   "file_extension": ".py",
   "mimetype": "text/x-python",
   "name": "python",
   "nbconvert_exporter": "python",
   "pygments_lexer": "ipython3",
   "version": "3.6.1"
  }
 },
 "nbformat": 4,
 "nbformat_minor": 2
}
